{
 "cells": [
  {
   "cell_type": "markdown",
   "id": "c670b6b6-ef94-4356-84b6-8688b0c74364",
   "metadata": {},
   "source": [
    "QUES 1-> Who developed the python programming language"
   ]
  },
  {
   "cell_type": "markdown",
   "id": "589b3e33-86c5-4788-ba6c-8cf12cf0e1f0",
   "metadata": {},
   "source": [
    "ANSWER 1 -> The Python programming language was developed by Guido van Rossum in the late 1980s and early 1990s."
   ]
  },
  {
   "cell_type": "markdown",
   "id": "0c9c3012-f968-4194-9e59-c3a3afb40b92",
   "metadata": {},
   "source": [
    "QUES 2->Which type of programming does python supports ?"
   ]
  },
  {
   "cell_type": "markdown",
   "id": "57798690-c858-42c3-835e-9f259d7bfbd1",
   "metadata": {},
   "source": [
    "ANSWER 2-> Python is a versatile programming language that supports several programming paradigms, including:\n",
    "\n",
    "Procedural programming: Python supports procedural programming, which involves breaking down a program into a set of functions that perform specific tasks.\n",
    "\n",
    "Object-oriented programming (OOP): Python supports OOP, which involves creating objects that have both data and functions associated with them.\n",
    "\n",
    "Functional programming: Python also supports functional programming, which involves creating functions that can be passed as arguments to other functions.\n",
    "\n",
    "Scripting: Python is often used as a scripting language, which involves writing scripts to automate tasks or processes.\n",
    "\n",
    "Overall, Python's flexibility and support for multiple programming paradigms make it a popular choice for a wide range of applications."
   ]
  },
  {
   "cell_type": "markdown",
   "id": "29c1f08e-59e7-46b0-be7d-b6805b77d276",
   "metadata": {},
   "source": [
    "QUES 3-> Is python case sensitive when dealing with identifiers?"
   ]
  },
  {
   "cell_type": "markdown",
   "id": "d708fb43-e5df-49ca-8468-7218eeec9f6e",
   "metadata": {},
   "source": [
    "ANSWER 3-> Yes,python is case sensitive when dealing with identifiers."
   ]
  },
  {
   "cell_type": "markdown",
   "id": "a8e34718-b754-46c5-9006-681b5194d84c",
   "metadata": {},
   "source": [
    "QUES 4-> What is the correct extension for python file?"
   ]
  },
  {
   "cell_type": "markdown",
   "id": "6f6dfdac-c904-4f7d-bdf6-2ac50077f599",
   "metadata": {},
   "source": [
    "ANSWER 4-> The correct extension for python file is .py ."
   ]
  },
  {
   "cell_type": "markdown",
   "id": "4376ea28-3165-4db4-8600-f83614c8bc37",
   "metadata": {},
   "source": [
    "QUES 5-> Is python code compiled or interpreted ?"
   ]
  },
  {
   "cell_type": "markdown",
   "id": "533ee826-06ba-465e-9943-c9fe30cfd345",
   "metadata": {},
   "source": [
    "ANSWER 5 -> Python code is interpreted."
   ]
  },
  {
   "cell_type": "markdown",
   "id": "49fb4ff9-341d-4c8f-be6f-baeb3e068f66",
   "metadata": {},
   "source": [
    "QUES 6-> Name some blocks of code used to define python language ?"
   ]
  },
  {
   "cell_type": "markdown",
   "id": "45b20f11-d28d-4277-a6fc-01772ae47de9",
   "metadata": {},
   "source": [
    "ANSWER 6 ->In Python, there are several blocks of code used to define the language itself. Some of the most important blocks include:\n",
    "\n",
    "1-Statements\n",
    "2-Functions\n",
    "3-Classes\n",
    "4-Modules\n",
    "5-Expressions\n"
   ]
  },
  {
   "cell_type": "markdown",
   "id": "1ddb10a4-aeb9-41c7-bc2b-2107bd8c08ca",
   "metadata": {},
   "source": [
    "QUES 7-> State a character used to give single-line comments in Python ?"
   ]
  },
  {
   "cell_type": "markdown",
   "id": "b2bdf054-39e8-49eb-a585-f24d1093c241",
   "metadata": {},
   "source": [
    "ANSWER 7->In Python, the hash symbol \"#\" is used to give single-line comments. Any text written after the \"#\" symbol on the same line will be ignored by the Python interpreter.\n",
    "\n"
   ]
  },
  {
   "cell_type": "markdown",
   "id": "36d874d9-6903-4def-ace5-d84879cdbf8c",
   "metadata": {},
   "source": [
    "QUES 8->Python supports the creation of anonymous functions at runtime,using a construct called ?"
   ]
  },
  {
   "cell_type": "markdown",
   "id": "d97e7f5d-8b11-4e47-9667-d2ea4f7fbc05",
   "metadata": {},
   "source": [
    "ANSWER 8-> Yes, Python supports the creation of anonymous functions at runtime using a construct called \"lambda\" keyword.\n",
    "\n"
   ]
  },
  {
   "cell_type": "markdown",
   "id": "d26157bb-1a1e-4125-a218-4faa3dc713ea",
   "metadata": {},
   "source": [
    "QUES 9->Mention functions which can help us to find the version of python that we are currently working on?"
   ]
  },
  {
   "cell_type": "markdown",
   "id": "c45a7d9a-d370-46e9-a376-40a48f6c6152",
   "metadata": {},
   "source": [
    "ANSWER 9-> Yes, there are functions and modules in Python that can help you find the version of Python that you are currently working on. Here are some of them:\n",
    "\n",
    "1--'sys' module: This module provides access to some variables used or maintained by the interpreter and to functions that interact strongly with the interpreter. The 'sys.version' attribute can be used to get the version of Python that is currently running.\n",
    "\n",
    "2--platform module: This module provides an interface to platform-specific services such as determining the current operating system, the name of the processor, etc. The 'platform.python_version()' function can be used to get the version of Python that is currently running.\n",
    "\n",
    "3--Command line: If you are working on the command line, you can simply type 'python version' to get the version of Python that is currently installed."
   ]
  },
  {
   "cell_type": "markdown",
   "id": "c51498b5-d215-4ca6-96a0-02de530921ce",
   "metadata": {},
   "source": [
    "QUES 10->What does pip stand for python?"
   ]
  },
  {
   "cell_type": "markdown",
   "id": "82758e17-6ddd-41e8-9824-57896f0cc19e",
   "metadata": {},
   "source": [
    "ANSWER 10->In Python, pip stands for \"Pip Installs Packages\"."
   ]
  },
  {
   "cell_type": "markdown",
   "id": "d60472f8-6081-453f-ba4c-40dbc05d7733",
   "metadata": {},
   "source": [
    "QUES 11->Mention a few built-in functions in python?"
   ]
  },
  {
   "cell_type": "markdown",
   "id": "fd14817b-8a28-4dd1-b767-fbd16a2e77a8",
   "metadata": {},
   "source": [
    "ANSWER 11->Yes, Python has many built-in functions that are available to use without importing any module. Here are some commonly used built-in functions in Python:\n",
    "1--print() - Used to print output to the console.\n",
    "2--input() - Used to read input from the console.\n",
    "3--len() - Used to get the length of a string, list, or any sequence.\n",
    "4--type() - Used to get the type of an object.\n",
    "5--range() - Used to create a sequence of numbers.\n"
   ]
  },
  {
   "cell_type": "markdown",
   "id": "ce4ca473-3c4f-4daf-bc57-4ceaffcdf674",
   "metadata": {},
   "source": [
    "QUES 12->What is the maximum possible length of an identifier in python ?"
   ]
  },
  {
   "cell_type": "markdown",
   "id": "d42d0372-5934-4f0e-bcbe-173539aada92",
   "metadata": {},
   "source": [
    "ANSWER 12->Python has a limit on the maximum length of a line of code, which is 79 characters. This is a recommendation for better readability and to avoid horizontal scrolling while viewing code. PEP 8, the official Python style guide, suggests limiting lines to a maximum of 79 characters."
   ]
  },
  {
   "cell_type": "markdown",
   "id": "fde606b1-bda4-41ed-89ea-33629fbfb740",
   "metadata": {},
   "source": [
    "QUES 13->What are the benefits of using python ?"
   ]
  },
  {
   "cell_type": "markdown",
   "id": "cf71d0c1-f439-4901-8070-380aaf9fa6ec",
   "metadata": {},
   "source": [
    "ANSWER 13->There are many benefits of using Python as a programming language. Here are some of the key advantages:\n",
    "\n",
    "1--Easy to learn and use: Python has a simple syntax and is easy to understand, even for beginners. It has a large and active community that provides extensive documentation and support.\n",
    "\n",
    "2--Large standard library: Python has a large standard library that provides a wide range of functions and modules, making it easy to perform many tasks without writing much code.\n",
    "\n",
    "3--Cross-platform: Python is a cross-platform language, which means that Python code can run on different operating systems, such as Windows, macOS, and Linux.\n",
    "\n",
    "4--Extensible: Python is an extensible language, which means that it can be easily integrated with other languages like C, C++, and Java.\n",
    "\n",
    "5--Great for prototyping: Python is great for prototyping and experimentation, allowing you to quickly test out ideas and develop a proof of concept.\n",
    "\n",
    "6--High-level language: Python is a high-level language, which means that it abstracts away many of the low-level details, making it easier to write code.\n",
    "\n",
    "7--Large and active community: Python has a large and active community that provides extensive support, documentation, and many third-party libraries and tools.\n",
    "\n",
    "8--Data science and machine learning: Python has become a popular language for data science and machine learning, with many libraries like NumPy, Pandas, Matplotlib, and TensorFlow."
   ]
  },
  {
   "cell_type": "markdown",
   "id": "66f02355-ff0a-411a-b141-2e712968f194",
   "metadata": {},
   "source": [
    "QUES 14->How is memory managed in python ?"
   ]
  },
  {
   "cell_type": "markdown",
   "id": "47050d11-754b-43f9-b8e5-970c8064d3cf",
   "metadata": {},
   "source": [
    "ANSWER 14->Memory management in Python involves a private heap containing all Python objects and data structures. The management of this private heap is ensured internally by the Python memory manager."
   ]
  },
  {
   "cell_type": "markdown",
   "id": "8e406c11-c799-4ed2-8823-cde9d201b29a",
   "metadata": {},
   "source": [
    "QUES 15->How to install python on windows and set path variables ?"
   ]
  },
  {
   "cell_type": "markdown",
   "id": "0b93edae-e7a5-49ab-9adb-2c10e35ea0af",
   "metadata": {},
   "source": [
    "ANSWER 15->Here are the steps to install Python on Windows and set the path variables:\n",
    "\n",
    "1--Download Python: Go to the official Python website (https://www.python.org/downloads/) and download the latest version of Python for Windows.\n",
    "\n",
    "2--Run the installer: Double-click on the downloaded file to run the Python installer. Follow the prompts to install Python on your computer. Be sure to select the \"Add Python to PATH\" option during installation.\n",
    "\n",
    "3--Verify the installation: Open a command prompt and type \"python\" (without quotes) to check if Python is installed properly. You should see the Python version and the Python prompt (>>>) in the command prompt.\n",
    "\n",
    "4--Set the PATH variables: To run Python from any directory in the command prompt, you need to set the PATH variables. Here's how to do it:\n",
    "\n",
    "a. Right-click on \"This PC\" or \"My Computer\" and select \"Properties\".\n",
    "\n",
    "b. Click on \"Advanced system settings\" and then click on the \"Environment Variables\" button.\n",
    "\n",
    "c. Under \"System Variables\", scroll down and select \"Path\" and click \"Edit\".\n",
    "\n",
    "d. Add the following path at the end of the \"Variable value\" field (without quotes): \";C:\\PythonXX\" (replace XX with the Python version you have installed).\n",
    "\n",
    "e. Click \"OK\" to close all the windows and save the changes.\n",
    "\n",
    "That's it! You have successfully installed Python on Windows and set the PATH variables. You can now run Python from any directory in the command prompt."
   ]
  },
  {
   "cell_type": "markdown",
   "id": "ec96352d-7d2b-4dfd-87fa-ad088b4a5862",
   "metadata": {},
   "source": [
    "QUES 16->Is indentation required in python ?"
   ]
  },
  {
   "cell_type": "markdown",
   "id": "3af3a52b-365e-4815-beba-a70e41db8fb1",
   "metadata": {},
   "source": [
    "ANSWER 16->Indentation is important to Python, because it's how you determine scope. Scope is how Python knows what code belongs to what part of the program.\n"
   ]
  }
 ],
 "metadata": {
  "kernelspec": {
   "display_name": "Python 3 (ipykernel)",
   "language": "python",
   "name": "python3"
  },
  "language_info": {
   "codemirror_mode": {
    "name": "ipython",
    "version": 3
   },
   "file_extension": ".py",
   "mimetype": "text/x-python",
   "name": "python",
   "nbconvert_exporter": "python",
   "pygments_lexer": "ipython3",
   "version": "3.10.8"
  }
 },
 "nbformat": 4,
 "nbformat_minor": 5
}
